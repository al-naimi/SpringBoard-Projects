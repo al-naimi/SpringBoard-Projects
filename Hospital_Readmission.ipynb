{
 "cells": [
  {
   "cell_type": "markdown",
   "metadata": {
    "collapsed": true
   },
   "source": [
    "## Omar Al-Naimi\n",
    "\n",
    "### This project is for developing different classification models for predicting patients' readmission within 30 days after discharge.\n",
    "#### Kansagara and his colleagues conducted systematic review study to examine the regression models for predicting patients’ readmission to hospital. They reviewed 7843 citations. They selected 30 studies of 26 unique models. Most of them used 30-day readmission outcome. The details of the selected literatures were “only 1 model specifically addressed preventable readmissions. Fourteen models that relied on retrospective administrative data could be potentially used to risk-adjust readmission rates for hospital comparison; of these, 9 were tested in large US populations and had poor discriminative ability (c statistic range: 0.55-0.65). Seven models could potentially be used to identify high-risk patients for intervention early during a hospitalization (c statistic range: 0.56-0.72), and 5 could be used at hospital discharge (c statistic range: 0.68-0.83). Six studies compared different models in the same population and 2 of these found that functional and social variables improved model discrimination. Although most models incorporated variables for medical comorbidity and use of prior medical services, few examined variables associated with overall health and function, illness severity, or social determinants of health” (Kansagara, Englander, Salanitro, Kagen, Theobald, Freeman & Kripalani, 2011).\n",
    "### The conclusion is that developing regression models for hospital readmission is still important topic because there is no one universal model for all scenarios, and most of the developed models showed poor results.\n",
    "### The approach of this project is to apply all available machine learning classification models after two steps of dimentionality reduction. The first one is experience-based dimentional reduction and the second one is inferential statistics to exclude parameters with high p-value.\n",
    "Later, machine learning dimentionality reduction techniques were applied to the data subset to reduce the dimentionality to the minimum possible (2D) for visualization. The following dimentionality reduction techniques were used: \n",
    "1.Principal Component Analysis (PCA) for linearly separable data\n",
    "2.Linear Discriminant Analysis (LDA) for linearly separable data\n",
    "3.Kernel PCA for non-linearly separable data \n",
    "\n",
    "\n",
    "### References \n",
    "Kansagara, D., Englander, H., Salanitro, A., Kagen, D., Theobald, C., Freeman, M., & Kripalani, S. (2011). Risk prediction models for hospital readmission: a systematic review. Jama, 306(15), 1688-1698.\n",
    "\n",
    "### Find the data set on the following link https://github.com/al-naimi/SpringBoard-Projects (Hospital-Readmission.csv)"
   ]
  },
  {
   "cell_type": "code",
   "execution_count": 181,
   "metadata": {
    "collapsed": true
   },
   "outputs": [],
   "source": [
    "# importing data set = Hospital-Readmission.csv\n",
    "import pandas as pd\n",
    "my_dataset = pd.read_csv ('C:\\\\Users\\\\omar_\\\\Desktop\\\\Springboard DataScience\\\\Capstone Project\\\\my 1st project\\\\project progress\\\\Data_SecondarySource\\\\Hospital-Readmission.csv')"
   ]
  },
  {
   "cell_type": "code",
   "execution_count": 182,
   "metadata": {
    "scrolled": true
   },
   "outputs": [
    {
     "data": {
      "text/html": [
       "<div>\n",
       "<style>\n",
       "    .dataframe thead tr:only-child th {\n",
       "        text-align: right;\n",
       "    }\n",
       "\n",
       "    .dataframe thead th {\n",
       "        text-align: left;\n",
       "    }\n",
       "\n",
       "    .dataframe tbody tr th {\n",
       "        vertical-align: top;\n",
       "    }\n",
       "</style>\n",
       "<table border=\"1\" class=\"dataframe\">\n",
       "  <thead>\n",
       "    <tr style=\"text-align: right;\">\n",
       "      <th></th>\n",
       "      <th>RowNumber</th>\n",
       "      <th>PatientInsuranceNO.</th>\n",
       "      <th>Surname</th>\n",
       "      <th>SES-CreditScore</th>\n",
       "      <th>HospitalLocation</th>\n",
       "      <th>Gender</th>\n",
       "      <th>Age</th>\n",
       "      <th>AdmisionPeriod/day</th>\n",
       "      <th>PreviousExpenses</th>\n",
       "      <th>NumOfPrevious admissions</th>\n",
       "      <th>HealthInsurance</th>\n",
       "      <th>RegularCheckup</th>\n",
       "      <th>EstimatedExpenses</th>\n",
       "      <th>Readmited</th>\n",
       "    </tr>\n",
       "  </thead>\n",
       "  <tbody>\n",
       "    <tr>\n",
       "      <th>0</th>\n",
       "      <td>1</td>\n",
       "      <td>15634602</td>\n",
       "      <td>Hargrave</td>\n",
       "      <td>619</td>\n",
       "      <td>Manhattan</td>\n",
       "      <td>Female</td>\n",
       "      <td>42</td>\n",
       "      <td>2</td>\n",
       "      <td>0.00</td>\n",
       "      <td>1</td>\n",
       "      <td>1</td>\n",
       "      <td>1</td>\n",
       "      <td>101348.88</td>\n",
       "      <td>1</td>\n",
       "    </tr>\n",
       "    <tr>\n",
       "      <th>1</th>\n",
       "      <td>2</td>\n",
       "      <td>15647311</td>\n",
       "      <td>Hill</td>\n",
       "      <td>608</td>\n",
       "      <td>StatenIsland</td>\n",
       "      <td>Female</td>\n",
       "      <td>41</td>\n",
       "      <td>1</td>\n",
       "      <td>83807.86</td>\n",
       "      <td>1</td>\n",
       "      <td>0</td>\n",
       "      <td>1</td>\n",
       "      <td>112542.58</td>\n",
       "      <td>0</td>\n",
       "    </tr>\n",
       "    <tr>\n",
       "      <th>2</th>\n",
       "      <td>3</td>\n",
       "      <td>15619304</td>\n",
       "      <td>Onio</td>\n",
       "      <td>502</td>\n",
       "      <td>Manhattan</td>\n",
       "      <td>Female</td>\n",
       "      <td>42</td>\n",
       "      <td>8</td>\n",
       "      <td>159660.80</td>\n",
       "      <td>3</td>\n",
       "      <td>1</td>\n",
       "      <td>0</td>\n",
       "      <td>113931.57</td>\n",
       "      <td>1</td>\n",
       "    </tr>\n",
       "    <tr>\n",
       "      <th>3</th>\n",
       "      <td>4</td>\n",
       "      <td>15701354</td>\n",
       "      <td>Boni</td>\n",
       "      <td>699</td>\n",
       "      <td>Manhattan</td>\n",
       "      <td>Female</td>\n",
       "      <td>39</td>\n",
       "      <td>1</td>\n",
       "      <td>0.00</td>\n",
       "      <td>2</td>\n",
       "      <td>0</td>\n",
       "      <td>0</td>\n",
       "      <td>93826.63</td>\n",
       "      <td>0</td>\n",
       "    </tr>\n",
       "    <tr>\n",
       "      <th>4</th>\n",
       "      <td>5</td>\n",
       "      <td>15737888</td>\n",
       "      <td>Mitchell</td>\n",
       "      <td>850</td>\n",
       "      <td>StatenIsland</td>\n",
       "      <td>Female</td>\n",
       "      <td>43</td>\n",
       "      <td>2</td>\n",
       "      <td>125510.82</td>\n",
       "      <td>1</td>\n",
       "      <td>1</td>\n",
       "      <td>1</td>\n",
       "      <td>79084.10</td>\n",
       "      <td>0</td>\n",
       "    </tr>\n",
       "  </tbody>\n",
       "</table>\n",
       "</div>"
      ],
      "text/plain": [
       "   RowNumber  PatientInsuranceNO.   Surname  SES-CreditScore HospitalLocation  \\\n",
       "0          1             15634602  Hargrave              619        Manhattan   \n",
       "1          2             15647311      Hill              608     StatenIsland   \n",
       "2          3             15619304      Onio              502        Manhattan   \n",
       "3          4             15701354      Boni              699        Manhattan   \n",
       "4          5             15737888  Mitchell              850     StatenIsland   \n",
       "\n",
       "   Gender  Age  AdmisionPeriod/day  PreviousExpenses  \\\n",
       "0  Female   42                   2              0.00   \n",
       "1  Female   41                   1          83807.86   \n",
       "2  Female   42                   8         159660.80   \n",
       "3  Female   39                   1              0.00   \n",
       "4  Female   43                   2         125510.82   \n",
       "\n",
       "   NumOfPrevious admissions  HealthInsurance  RegularCheckup  \\\n",
       "0                         1                1               1   \n",
       "1                         1                0               1   \n",
       "2                         3                1               0   \n",
       "3                         2                0               0   \n",
       "4                         1                1               1   \n",
       "\n",
       "   EstimatedExpenses  Readmited  \n",
       "0          101348.88          1  \n",
       "1          112542.58          0  \n",
       "2          113931.57          1  \n",
       "3           93826.63          0  \n",
       "4           79084.10          0  "
      ]
     },
     "execution_count": 182,
     "metadata": {},
     "output_type": "execute_result"
    }
   ],
   "source": [
    "#checking my_dataset. it is 10,000 rows and 14 columns\n",
    "my_dataset.head ()"
   ]
  },
  {
   "cell_type": "code",
   "execution_count": 183,
   "metadata": {},
   "outputs": [
    {
     "name": "stdout",
     "output_type": "stream",
     "text": [
      "Index(['RowNumber', 'PatientInsuranceNO.', 'Surname', 'SES-CreditScore',\n",
      "       'HospitalLocation', 'Gender', 'Age', 'AdmisionPeriod/day',\n",
      "       'PreviousExpenses', 'NumOfPrevious admissions', 'HealthInsurance',\n",
      "       'RegularCheckup', 'EstimatedExpenses', 'Readmited'],\n",
      "      dtype='object')\n",
      "Total Rows = 10000  : Total Columns = 14\n"
     ]
    }
   ],
   "source": [
    "# More checking about data set\n",
    "rows= len (my_dataset)\n",
    "columns= len (my_dataset.columns)\n",
    "print (my_dataset.columns)\n",
    "print (\"Total Rows =\", rows, \" : Total Columns =\", columns)"
   ]
  },
  {
   "cell_type": "code",
   "execution_count": 184,
   "metadata": {},
   "outputs": [
    {
     "name": "stdout",
     "output_type": "stream",
     "text": [
      "<class 'pandas.core.frame.DataFrame'>\n",
      "RangeIndex: 10000 entries, 0 to 9999\n",
      "Data columns (total 14 columns):\n",
      "RowNumber                   10000 non-null int64\n",
      "PatientInsuranceNO.         10000 non-null int64\n",
      "Surname                     10000 non-null object\n",
      "SES-CreditScore             10000 non-null int64\n",
      "HospitalLocation            10000 non-null object\n",
      "Gender                      10000 non-null object\n",
      "Age                         10000 non-null int64\n",
      "AdmisionPeriod/day          10000 non-null int64\n",
      "PreviousExpenses            10000 non-null float64\n",
      "NumOfPrevious admissions    10000 non-null int64\n",
      "HealthInsurance             10000 non-null int64\n",
      "RegularCheckup              10000 non-null int64\n",
      "EstimatedExpenses           10000 non-null float64\n",
      "Readmited                   10000 non-null int64\n",
      "dtypes: float64(2), int64(9), object(3)\n",
      "memory usage: 1.1+ MB\n"
     ]
    }
   ],
   "source": [
    "#columns information shows correct data types, numbers, and non-null\n",
    "my_dataset.info ()"
   ]
  },
  {
   "cell_type": "markdown",
   "metadata": {},
   "source": [
    "---"
   ]
  },
  {
   "cell_type": "code",
   "execution_count": 185,
   "metadata": {},
   "outputs": [
    {
     "data": {
      "text/html": [
       "<div>\n",
       "<style>\n",
       "    .dataframe thead tr:only-child th {\n",
       "        text-align: right;\n",
       "    }\n",
       "\n",
       "    .dataframe thead th {\n",
       "        text-align: left;\n",
       "    }\n",
       "\n",
       "    .dataframe tbody tr th {\n",
       "        vertical-align: top;\n",
       "    }\n",
       "</style>\n",
       "<table border=\"1\" class=\"dataframe\">\n",
       "  <thead>\n",
       "    <tr style=\"text-align: right;\">\n",
       "      <th></th>\n",
       "      <th>count</th>\n",
       "      <th>mean</th>\n",
       "      <th>std</th>\n",
       "      <th>min</th>\n",
       "      <th>25%</th>\n",
       "      <th>50%</th>\n",
       "      <th>75%</th>\n",
       "      <th>max</th>\n",
       "    </tr>\n",
       "  </thead>\n",
       "  <tbody>\n",
       "    <tr>\n",
       "      <th>Age</th>\n",
       "      <td>10000.0</td>\n",
       "      <td>38.921800</td>\n",
       "      <td>10.487806</td>\n",
       "      <td>18.00</td>\n",
       "      <td>32.00</td>\n",
       "      <td>37.000</td>\n",
       "      <td>44.0000</td>\n",
       "      <td>92.00</td>\n",
       "    </tr>\n",
       "    <tr>\n",
       "      <th>SES-CreditScore</th>\n",
       "      <td>10000.0</td>\n",
       "      <td>650.528800</td>\n",
       "      <td>96.653299</td>\n",
       "      <td>350.00</td>\n",
       "      <td>584.00</td>\n",
       "      <td>652.000</td>\n",
       "      <td>718.0000</td>\n",
       "      <td>850.00</td>\n",
       "    </tr>\n",
       "    <tr>\n",
       "      <th>AdmisionPeriod/day</th>\n",
       "      <td>10000.0</td>\n",
       "      <td>5.012800</td>\n",
       "      <td>2.892174</td>\n",
       "      <td>0.00</td>\n",
       "      <td>3.00</td>\n",
       "      <td>5.000</td>\n",
       "      <td>7.0000</td>\n",
       "      <td>10.00</td>\n",
       "    </tr>\n",
       "    <tr>\n",
       "      <th>PreviousExpenses</th>\n",
       "      <td>10000.0</td>\n",
       "      <td>76485.889288</td>\n",
       "      <td>62397.405202</td>\n",
       "      <td>0.00</td>\n",
       "      <td>0.00</td>\n",
       "      <td>97198.540</td>\n",
       "      <td>127644.2400</td>\n",
       "      <td>250898.09</td>\n",
       "    </tr>\n",
       "    <tr>\n",
       "      <th>NumOfPrevious admissions</th>\n",
       "      <td>10000.0</td>\n",
       "      <td>1.530200</td>\n",
       "      <td>0.581654</td>\n",
       "      <td>1.00</td>\n",
       "      <td>1.00</td>\n",
       "      <td>1.000</td>\n",
       "      <td>2.0000</td>\n",
       "      <td>4.00</td>\n",
       "    </tr>\n",
       "    <tr>\n",
       "      <th>EstimatedExpenses</th>\n",
       "      <td>10000.0</td>\n",
       "      <td>100090.239881</td>\n",
       "      <td>57510.492818</td>\n",
       "      <td>11.58</td>\n",
       "      <td>51002.11</td>\n",
       "      <td>100193.915</td>\n",
       "      <td>149388.2475</td>\n",
       "      <td>199992.48</td>\n",
       "    </tr>\n",
       "  </tbody>\n",
       "</table>\n",
       "</div>"
      ],
      "text/plain": [
       "                            count           mean           std     min  \\\n",
       "Age                       10000.0      38.921800     10.487806   18.00   \n",
       "SES-CreditScore           10000.0     650.528800     96.653299  350.00   \n",
       "AdmisionPeriod/day        10000.0       5.012800      2.892174    0.00   \n",
       "PreviousExpenses          10000.0   76485.889288  62397.405202    0.00   \n",
       "NumOfPrevious admissions  10000.0       1.530200      0.581654    1.00   \n",
       "EstimatedExpenses         10000.0  100090.239881  57510.492818   11.58   \n",
       "\n",
       "                               25%         50%          75%        max  \n",
       "Age                          32.00      37.000      44.0000      92.00  \n",
       "SES-CreditScore             584.00     652.000     718.0000     850.00  \n",
       "AdmisionPeriod/day            3.00       5.000       7.0000      10.00  \n",
       "PreviousExpenses              0.00   97198.540  127644.2400  250898.09  \n",
       "NumOfPrevious admissions      1.00       1.000       2.0000       4.00  \n",
       "EstimatedExpenses         51002.11  100193.915  149388.2475  199992.48  "
      ]
     },
     "execution_count": 185,
     "metadata": {},
     "output_type": "execute_result"
    }
   ],
   "source": [
    "# Data description (descriptive statistics) for important numerical columns\n",
    "# subsetting columns\n",
    "columns_subset= my_dataset [['Age','SES-CreditScore', 'AdmisionPeriod/day', 'PreviousExpenses', 'NumOfPrevious admissions', \\\n",
    "             'EstimatedExpenses']]\n",
    "columns_subset.describe ().transpose()"
   ]
  },
  {
   "cell_type": "markdown",
   "metadata": {},
   "source": [
    "---"
   ]
  },
  {
   "cell_type": "markdown",
   "metadata": {},
   "source": [
    "# A/B test visualization"
   ]
  },
  {
   "cell_type": "code",
   "execution_count": 186,
   "metadata": {
    "collapsed": true
   },
   "outputs": [],
   "source": [
    "import matplotlib.pyplot as plt\n",
    "%matplotlib inline\n",
    "plt.rcParams ['figure.figsize'] =8,4\n",
    "import warnings\n",
    "warnings.filterwarnings ('ignore')\n",
    "plt.style.use (\"ggplot\")"
   ]
  },
  {
   "cell_type": "markdown",
   "metadata": {},
   "source": [
    "## Creating data subsets & visualize them"
   ]
  },
  {
   "cell_type": "code",
   "execution_count": 187,
   "metadata": {
    "collapsed": true
   },
   "outputs": [],
   "source": [
    "# This subset is for gender\n",
    "\n",
    "male = my_dataset ['Gender'] =='Male'\n",
    "female = my_dataset ['Gender'] =='Female'\n",
    "admitted = my_dataset ['Readmited'] == 1\n",
    "not_admitted = my_dataset ['Readmited'] == 0\n",
    "\n",
    "male_admitted = my_dataset [male & admitted]\n",
    "male_not_admitted = my_dataset [male & not_admitted]\n",
    "female_admitted = my_dataset [female & admitted]\n",
    "female_not_admitted = my_dataset [female & not_admitted]"
   ]
  },
  {
   "cell_type": "code",
   "execution_count": 188,
   "metadata": {
    "collapsed": true
   },
   "outputs": [],
   "source": [
    "# Visualization for gender\n",
    "\n",
    "vis1 = male_admitted ['Gender'].value_counts()\n",
    "vis2 = male_not_admitted ['Gender'].value_counts()\n",
    "vis3 = female_admitted ['Gender'].value_counts()\n",
    "vis4 = female_not_admitted ['Gender'].value_counts()"
   ]
  },
  {
   "cell_type": "code",
   "execution_count": 189,
   "metadata": {},
   "outputs": [
    {
     "data": {
      "image/png": "[encoded data removed]",
      "text/plain": [
       "<matplotlib.figure.Figure at 0x19b9f069438>"
      ]
     },
     "metadata": {},
     "output_type": "display_data"
    }
   ],
   "source": [
    "# Comparing the numbers of Males vs Females\n",
    "\n",
    "plt.style.use (\"ggplot\")\n",
    "from collections import Counter\n",
    "c = Counter(my_dataset.Gender)\n",
    "\n",
    "men = c['Male']\n",
    "women = c['Female']\n",
    "\n",
    "bar_heights = (men, women)\n",
    "x_axis = (1,2)\n",
    "\n",
    "fig, ax = plt.subplots()\n",
    "width = 0.8\n",
    "\n",
    "ax.bar(x_axis, bar_heights, width)\n",
    "\n",
    "ax.set_xlim((0, 3))\n",
    "ax.set_ylim((0, max(men, women)*1.1))\n",
    "\n",
    "ax.set_xticks([i+width/20 for i in x_axis])\n",
    "ax.set_xticklabels(['Male', 'Female'])\n",
    "\n",
    "plt.show()"
   ]
  },
  {
   "cell_type": "code",
   "execution_count": 190,
   "metadata": {},
   "outputs": [
    {
     "data": {
      "image/png": "[encoded data removed]",
      "text/plain": [
       "<matplotlib.figure.Figure at 0x19b9ef171d0>"
      ]
     },
     "metadata": {},
     "output_type": "display_data"
    }
   ],
   "source": [
    "# Visualizing the actual numbers\n",
    "\n",
    "A = [vis1, vis3]\n",
    "B = [vis2, vis4]\n",
    "\n",
    "x_axis = (1,2)\n",
    "\n",
    "plt.bar(x_axis, A, color = 'b', width= 0.5)\n",
    "plt.bar(x_axis, B, color = 'r', bottom = A, width= 0.5)\n",
    "\n",
    "plt.title ('Gender')\n",
    "\n",
    "plt.xticks ([i+width/20 for i in x_axis])\n",
    "plt.xlabel ('Readmitted=blue , No-Readmission=red')\n",
    "plt.xticks(x_axis)\n",
    "plt.xticks([1, 2], ['MALE', 'FEMALE'])\n",
    "plt.legend (loc= 1,bbox_to_anchor=(0.5, -0.05),  shadow=True, ncol=2 )\n",
    "plt.show()"
   ]
  },
  {
   "cell_type": "code",
   "execution_count": null,
   "metadata": {
    "collapsed": true
   },
   "outputs": [],
   "source": []
  },
  {
   "cell_type": "code",
   "execution_count": 191,
   "metadata": {},
   "outputs": [
    {
     "data": {
      "image/png": "[encoded data removed]",
      "text/plain": [
       "<matplotlib.figure.Figure at 0x19b9ef3d898>"
      ]
     },
     "metadata": {},
     "output_type": "display_data"
    }
   ],
   "source": [
    "# Visualizing the percent\n",
    "pool1 = vis1+vis2\n",
    "vis1p = vis1 *100/pool1\n",
    "vis2p = vis2*100/pool1\n",
    "pool2 = vis3 +vis4\n",
    "vis3p = vis3*100/pool2\n",
    "vis4p = vis4*100/pool2\n",
    "A = [vis1p, vis3p]\n",
    "B = [vis2p, vis4p]\n",
    "\n",
    "x_axis = (1,2)\n",
    "\n",
    "plt.title ('% Gender')\n",
    "plt.bar(x_axis, A, color = 'b')\n",
    "plt.bar(x_axis, B, color = 'r', bottom = A)\n",
    "plt.xlabel ('% of Readmission: Readmitted=blue , No-Readmission=red')\n",
    "\n",
    "plt.xticks ([i+width/20 for i in x_axis])\n",
    "plt.xticks(x_axis)\n",
    "plt.xticks([1, 2], ['MALE', 'FEMALE'])\n",
    "plt.legend (loc= 1,bbox_to_anchor=(0.5, -0.05),  shadow=True, ncol=2 )\n",
    "\n",
    "plt.show()"
   ]
  },
  {
   "cell_type": "markdown",
   "metadata": {},
   "source": [
    "All other parameters can be visualized by the same method above"
   ]
  },
  {
   "cell_type": "markdown",
   "metadata": {},
   "source": [
    "The full exploratory data analysis was done by Tabluea. Follow this link https://github.com/al-naimi/HospitalReadmission-Project/blob/master/project%20Tabluea%20slides.docx\n",
    "\n",
    "The project documentation also available on this link https://github.com/al-naimi/HospitalReadmission-Project/blob/master/The%20project%20document.docx"
   ]
  },
  {
   "cell_type": "code",
   "execution_count": 192,
   "metadata": {
    "collapsed": true
   },
   "outputs": [],
   "source": [
    "# Machine Learning\n",
    "\"\"\" Data Preprocessing which consist of the following:\n",
    "1) Importing the libraries.\n",
    "2) Selecting the important columns of the dataset\n",
    "3) Creating matrix of features\n",
    "4) Taking care of missing data\n",
    "5) Encoding categorical data\n",
    "6) Splitting the dataset into the Training set and Test set\n",
    "7) Feature Scaling\n",
    "8) Fitting the ML model: \n",
    "                      a) Fitting classifier to the Training set\n",
    "                      b) Predicting the Test set results\n",
    "                      c) Making the Confusion Matrix\n",
    "                      d) Evaluating the model performance (k-Fold Cross Validation)\n",
    "9) Model selection includes k-Fold Cross Validation and Grid Search\n",
    "10) Dimensionality reduction\n",
    "11) Visualising the Training and Test sets\"\"\" \n",
    "# 1) Importing the libraries\n",
    "import numpy as np\n",
    "import matplotlib.pyplot as plt\n",
    "import pandas as pd"
   ]
  },
  {
   "cell_type": "code",
   "execution_count": 193,
   "metadata": {},
   "outputs": [
    {
     "data": {
      "text/html": [
       "<div>\n",
       "<style>\n",
       "    .dataframe thead tr:only-child th {\n",
       "        text-align: right;\n",
       "    }\n",
       "\n",
       "    .dataframe thead th {\n",
       "        text-align: left;\n",
       "    }\n",
       "\n",
       "    .dataframe tbody tr th {\n",
       "        vertical-align: top;\n",
       "    }\n",
       "</style>\n",
       "<table border=\"1\" class=\"dataframe\">\n",
       "  <thead>\n",
       "    <tr style=\"text-align: right;\">\n",
       "      <th></th>\n",
       "      <th>HospitalLocation</th>\n",
       "      <th>Gender</th>\n",
       "      <th>Age</th>\n",
       "      <th>PreviousExpenses</th>\n",
       "      <th>EstimatedExpenses</th>\n",
       "      <th>RegularCheckup</th>\n",
       "      <th>Readmited</th>\n",
       "    </tr>\n",
       "  </thead>\n",
       "  <tbody>\n",
       "    <tr>\n",
       "      <th>0</th>\n",
       "      <td>Manhattan</td>\n",
       "      <td>Female</td>\n",
       "      <td>42</td>\n",
       "      <td>0.00</td>\n",
       "      <td>101348.88</td>\n",
       "      <td>1</td>\n",
       "      <td>1</td>\n",
       "    </tr>\n",
       "    <tr>\n",
       "      <th>1</th>\n",
       "      <td>StatenIsland</td>\n",
       "      <td>Female</td>\n",
       "      <td>41</td>\n",
       "      <td>83807.86</td>\n",
       "      <td>112542.58</td>\n",
       "      <td>1</td>\n",
       "      <td>0</td>\n",
       "    </tr>\n",
       "    <tr>\n",
       "      <th>2</th>\n",
       "      <td>Manhattan</td>\n",
       "      <td>Female</td>\n",
       "      <td>42</td>\n",
       "      <td>159660.80</td>\n",
       "      <td>113931.57</td>\n",
       "      <td>0</td>\n",
       "      <td>1</td>\n",
       "    </tr>\n",
       "    <tr>\n",
       "      <th>3</th>\n",
       "      <td>Manhattan</td>\n",
       "      <td>Female</td>\n",
       "      <td>39</td>\n",
       "      <td>0.00</td>\n",
       "      <td>93826.63</td>\n",
       "      <td>0</td>\n",
       "      <td>0</td>\n",
       "    </tr>\n",
       "    <tr>\n",
       "      <th>4</th>\n",
       "      <td>StatenIsland</td>\n",
       "      <td>Female</td>\n",
       "      <td>43</td>\n",
       "      <td>125510.82</td>\n",
       "      <td>79084.10</td>\n",
       "      <td>1</td>\n",
       "      <td>0</td>\n",
       "    </tr>\n",
       "  </tbody>\n",
       "</table>\n",
       "</div>"
      ],
      "text/plain": [
       "  HospitalLocation  Gender  Age  PreviousExpenses  EstimatedExpenses  \\\n",
       "0        Manhattan  Female   42              0.00          101348.88   \n",
       "1     StatenIsland  Female   41          83807.86          112542.58   \n",
       "2        Manhattan  Female   42         159660.80          113931.57   \n",
       "3        Manhattan  Female   39              0.00           93826.63   \n",
       "4     StatenIsland  Female   43         125510.82           79084.10   \n",
       "\n",
       "   RegularCheckup  Readmited  \n",
       "0               1          1  \n",
       "1               1          0  \n",
       "2               0          1  \n",
       "3               0          0  \n",
       "4               1          0  "
      ]
     },
     "execution_count": 193,
     "metadata": {},
     "output_type": "execute_result"
    }
   ],
   "source": [
    "# 2) Importing or selecting the important columns of the dataset\n",
    "# subsetting columns\n",
    "dataset = my_dataset [['HospitalLocation', 'Gender', 'Age', 'PreviousExpenses', \\\n",
    "                       'EstimatedExpenses', 'RegularCheckup', 'Readmited']]\n",
    "dataset.head ()"
   ]
  },
  {
   "cell_type": "code",
   "execution_count": 194,
   "metadata": {
    "collapsed": true
   },
   "outputs": [],
   "source": [
    "# 3) creating matrix of features to identify the dependent factor vs independent factors (parameters)\n",
    "X = dataset.iloc[:, [0, 1, 2, 3, 4, 5]].values  # X = independent factors which are all columns except the last one\n",
    "y = dataset.iloc[:, 6].values   # y = the dependent factor"
   ]
  },
  {
   "cell_type": "code",
   "execution_count": 195,
   "metadata": {},
   "outputs": [
    {
     "data": {
      "text/plain": [
       "array([['Manhattan', 'Female', 42, 0.0, 101348.88, 1],\n",
       "       ['StatenIsland', 'Female', 41, 83807.86, 112542.58, 1],\n",
       "       ['Manhattan', 'Female', 42, 159660.8, 113931.57, 0],\n",
       "       ..., \n",
       "       ['Manhattan', 'Female', 36, 0.0, 42085.58, 1],\n",
       "       ['Bronx', 'Male', 42, 75075.31, 92888.52, 0],\n",
       "       ['Manhattan', 'Female', 28, 130142.79, 38190.78, 0]], dtype=object)"
      ]
     },
     "execution_count": 195,
     "metadata": {},
     "output_type": "execute_result"
    }
   ],
   "source": [
    "X"
   ]
  },
  {
   "cell_type": "code",
   "execution_count": 196,
   "metadata": {},
   "outputs": [
    {
     "data": {
      "text/plain": [
       "array([1, 0, 1, ..., 1, 1, 0], dtype=int64)"
      ]
     },
     "execution_count": 196,
     "metadata": {},
     "output_type": "execute_result"
    }
   ],
   "source": [
    "y"
   ]
  },
  {
   "cell_type": "code",
   "execution_count": 197,
   "metadata": {
    "collapsed": true
   },
   "outputs": [],
   "source": [
    "# 4) Taking care of missing data. Filling the missed data by the mean of the column\n",
    "from sklearn.preprocessing import Imputer\n",
    "imputer = Imputer(missing_values = 'NaN', strategy = 'mean', axis = 0)\n",
    "imputer = imputer.fit(X[:, 2:5])\n",
    "X[:, 2:5] = imputer.transform(X[:, 2:5])"
   ]
  },
  {
   "cell_type": "code",
   "execution_count": 198,
   "metadata": {
    "collapsed": true
   },
   "outputs": [],
   "source": [
    "# 5) Encoding categorical data\n",
    "\n",
    "# a) Encoding the Independent Variable/s\n",
    "from sklearn.preprocessing import LabelEncoder, OneHotEncoder # OneHotEncoder is for dummy encoding the encoded \n",
    "                                                              # variable by LabelEncoder\n",
    "labelencoder_X = LabelEncoder()\n",
    "\n",
    "X[:, 0] = labelencoder_X.fit_transform(X[:, 0])\n",
    "X[:, 1] = labelencoder_X.fit_transform(X[:, 1])\n",
    "\n",
    "onehotencoder = OneHotEncoder(categorical_features = [[0, 1]])\n",
    "X = onehotencoder.fit_transform(X).toarray()\n",
    "\n",
    "\n",
    "# b) Encoding the Dependent Variable. Because it is already encoded, no need for y encoding\n",
    "# labelencoder_y = LabelEncoder()\n",
    "# y = labelencoder_y.fit_transform(y)"
   ]
  },
  {
   "cell_type": "code",
   "execution_count": 199,
   "metadata": {},
   "outputs": [
    {
     "data": {
      "text/html": [
       "<div>\n",
       "<style>\n",
       "    .dataframe thead tr:only-child th {\n",
       "        text-align: right;\n",
       "    }\n",
       "\n",
       "    .dataframe thead th {\n",
       "        text-align: left;\n",
       "    }\n",
       "\n",
       "    .dataframe tbody tr th {\n",
       "        vertical-align: top;\n",
       "    }\n",
       "</style>\n",
       "<table border=\"1\" class=\"dataframe\">\n",
       "  <thead>\n",
       "    <tr style=\"text-align: right;\">\n",
       "      <th></th>\n",
       "      <th>0</th>\n",
       "      <th>1</th>\n",
       "      <th>2</th>\n",
       "      <th>3</th>\n",
       "      <th>4</th>\n",
       "      <th>5</th>\n",
       "      <th>6</th>\n",
       "      <th>7</th>\n",
       "      <th>8</th>\n",
       "    </tr>\n",
       "  </thead>\n",
       "  <tbody>\n",
       "    <tr>\n",
       "      <th>0</th>\n",
       "      <td>0.0</td>\n",
       "      <td>1.0</td>\n",
       "      <td>0.0</td>\n",
       "      <td>1.0</td>\n",
       "      <td>0.0</td>\n",
       "      <td>42.0</td>\n",
       "      <td>0.00</td>\n",
       "      <td>101348.88</td>\n",
       "      <td>1.0</td>\n",
       "    </tr>\n",
       "    <tr>\n",
       "      <th>1</th>\n",
       "      <td>0.0</td>\n",
       "      <td>0.0</td>\n",
       "      <td>1.0</td>\n",
       "      <td>1.0</td>\n",
       "      <td>0.0</td>\n",
       "      <td>41.0</td>\n",
       "      <td>83807.86</td>\n",
       "      <td>112542.58</td>\n",
       "      <td>1.0</td>\n",
       "    </tr>\n",
       "    <tr>\n",
       "      <th>2</th>\n",
       "      <td>0.0</td>\n",
       "      <td>1.0</td>\n",
       "      <td>0.0</td>\n",
       "      <td>1.0</td>\n",
       "      <td>0.0</td>\n",
       "      <td>42.0</td>\n",
       "      <td>159660.80</td>\n",
       "      <td>113931.57</td>\n",
       "      <td>0.0</td>\n",
       "    </tr>\n",
       "    <tr>\n",
       "      <th>3</th>\n",
       "      <td>0.0</td>\n",
       "      <td>1.0</td>\n",
       "      <td>0.0</td>\n",
       "      <td>1.0</td>\n",
       "      <td>0.0</td>\n",
       "      <td>39.0</td>\n",
       "      <td>0.00</td>\n",
       "      <td>93826.63</td>\n",
       "      <td>0.0</td>\n",
       "    </tr>\n",
       "    <tr>\n",
       "      <th>4</th>\n",
       "      <td>0.0</td>\n",
       "      <td>0.0</td>\n",
       "      <td>1.0</td>\n",
       "      <td>1.0</td>\n",
       "      <td>0.0</td>\n",
       "      <td>43.0</td>\n",
       "      <td>125510.82</td>\n",
       "      <td>79084.10</td>\n",
       "      <td>1.0</td>\n",
       "    </tr>\n",
       "    <tr>\n",
       "      <th>5</th>\n",
       "      <td>0.0</td>\n",
       "      <td>0.0</td>\n",
       "      <td>1.0</td>\n",
       "      <td>0.0</td>\n",
       "      <td>1.0</td>\n",
       "      <td>44.0</td>\n",
       "      <td>113755.78</td>\n",
       "      <td>149756.71</td>\n",
       "      <td>0.0</td>\n",
       "    </tr>\n",
       "    <tr>\n",
       "      <th>6</th>\n",
       "      <td>0.0</td>\n",
       "      <td>1.0</td>\n",
       "      <td>0.0</td>\n",
       "      <td>0.0</td>\n",
       "      <td>1.0</td>\n",
       "      <td>50.0</td>\n",
       "      <td>0.00</td>\n",
       "      <td>10062.80</td>\n",
       "      <td>1.0</td>\n",
       "    </tr>\n",
       "    <tr>\n",
       "      <th>7</th>\n",
       "      <td>1.0</td>\n",
       "      <td>0.0</td>\n",
       "      <td>0.0</td>\n",
       "      <td>1.0</td>\n",
       "      <td>0.0</td>\n",
       "      <td>29.0</td>\n",
       "      <td>115046.74</td>\n",
       "      <td>119346.88</td>\n",
       "      <td>0.0</td>\n",
       "    </tr>\n",
       "    <tr>\n",
       "      <th>8</th>\n",
       "      <td>0.0</td>\n",
       "      <td>1.0</td>\n",
       "      <td>0.0</td>\n",
       "      <td>0.0</td>\n",
       "      <td>1.0</td>\n",
       "      <td>44.0</td>\n",
       "      <td>142051.07</td>\n",
       "      <td>74940.50</td>\n",
       "      <td>1.0</td>\n",
       "    </tr>\n",
       "    <tr>\n",
       "      <th>9</th>\n",
       "      <td>0.0</td>\n",
       "      <td>1.0</td>\n",
       "      <td>0.0</td>\n",
       "      <td>0.0</td>\n",
       "      <td>1.0</td>\n",
       "      <td>27.0</td>\n",
       "      <td>134603.88</td>\n",
       "      <td>71725.73</td>\n",
       "      <td>1.0</td>\n",
       "    </tr>\n",
       "  </tbody>\n",
       "</table>\n",
       "</div>"
      ],
      "text/plain": [
       "     0    1    2    3    4     5          6          7    8\n",
       "0  0.0  1.0  0.0  1.0  0.0  42.0       0.00  101348.88  1.0\n",
       "1  0.0  0.0  1.0  1.0  0.0  41.0   83807.86  112542.58  1.0\n",
       "2  0.0  1.0  0.0  1.0  0.0  42.0  159660.80  113931.57  0.0\n",
       "3  0.0  1.0  0.0  1.0  0.0  39.0       0.00   93826.63  0.0\n",
       "4  0.0  0.0  1.0  1.0  0.0  43.0  125510.82   79084.10  1.0\n",
       "5  0.0  0.0  1.0  0.0  1.0  44.0  113755.78  149756.71  0.0\n",
       "6  0.0  1.0  0.0  0.0  1.0  50.0       0.00   10062.80  1.0\n",
       "7  1.0  0.0  0.0  1.0  0.0  29.0  115046.74  119346.88  0.0\n",
       "8  0.0  1.0  0.0  0.0  1.0  44.0  142051.07   74940.50  1.0\n",
       "9  0.0  1.0  0.0  0.0  1.0  27.0  134603.88   71725.73  1.0"
      ]
     },
     "execution_count": 199,
     "metadata": {},
     "output_type": "execute_result"
    }
   ],
   "source": [
    "pd.DataFrame (X).head (10)"
   ]
  },
  {
   "cell_type": "code",
   "execution_count": 200,
   "metadata": {
    "collapsed": true
   },
   "outputs": [],
   "source": [
    "# 6) Splitting the dataset into the Training set and Test set\n",
    "from sklearn.cross_validation import train_test_split\n",
    "X_train, X_test, y_train, y_test = train_test_split(X, y, test_size = 0.2, random_state = 0) # you can ommit random_state. It \n",
    "# keeps the same random sample for all sampling trials OR you can choose different value."
   ]
  },
  {
   "cell_type": "code",
   "execution_count": 201,
   "metadata": {
    "collapsed": true
   },
   "outputs": [],
   "source": [
    "# 7) Feature Scaling. This for bringing large and small values of different parameters on the same scale.\n",
    "\"\"\" a) No need to feature scale the y (dependent) variable in binary outcome (logistic regression).Do it when the outcome is\n",
    "continuous (linear regression).\n",
    "\n",
    "b) There are 2 feature scaling methods, Standardization and Normalization.\n",
    "Xstand = X - mean(X) / standard deviation(X)\n",
    "Xnorm = X - min(X) / max(X) - min(X)\n",
    "\n",
    "c) Even thought most python and R ML libraries do features scaling for you, some are not and then it is required to do it\n",
    "manually. It is good practice to include feature scaling code in your script to remind youself this important processing step\n",
    "\n",
    "d) Important note: feature scaling to dummy independent variables improve the model but loss the interpretation. Whereas, you\n",
    "should not feature scale the dummy dependant variable\"\"\"\n",
    " \n",
    "# Here we will use Standardisation Scale.\n",
    "from sklearn.preprocessing import StandardScaler\n",
    "sc_X = StandardScaler()\n",
    "X_train = sc_X.fit_transform(X_train) # X_train needs for fit and transform\n",
    "X_test = sc_X.transform(X_test)       # X_test needs for only transform\n",
    "\n",
    "# sc_y = StandardScaler()\n",
    "# y_train = sc_y.fit_transform(y_train)\n",
    "# y_test = sc_y.transform(y_test)"
   ]
  },
  {
   "cell_type": "code",
   "execution_count": 202,
   "metadata": {},
   "outputs": [
    {
     "data": {
      "text/plain": [
       "LogisticRegression(C=1.0, class_weight=None, dual=False, fit_intercept=True,\n",
       "          intercept_scaling=1, max_iter=100, multi_class='ovr', n_jobs=1,\n",
       "          penalty='l2', random_state=0, solver='liblinear', tol=0.0001,\n",
       "          verbose=0, warm_start=False)"
      ]
     },
     "execution_count": 202,
     "metadata": {},
     "output_type": "execute_result"
    }
   ],
   "source": [
    "# 8) Fitting classifier to the Training set & Predicting the Test set results\n",
    "\n",
    "# A) Fitting Logistic Regression to the Training set\n",
    "# Creating logestic regression class (classifier)\n",
    "from sklearn.linear_model import LogisticRegression\n",
    "classifier = LogisticRegression(random_state = 0)\n",
    "classifier.fit(X_train, y_train)"
   ]
  },
  {
   "cell_type": "code",
   "execution_count": 203,
   "metadata": {},
   "outputs": [
    {
     "data": {
      "text/plain": [
       "array([[1534,   61],\n",
       "       [ 312,   93]])"
      ]
     },
     "execution_count": 203,
     "metadata": {},
     "output_type": "execute_result"
    }
   ],
   "source": [
    "# Predicting the Test set results\n",
    "y_pred = classifier.predict(X_test)\n",
    "\n",
    "# Making the Confusion Matrix\n",
    "from sklearn.metrics import confusion_matrix\n",
    "cm = confusion_matrix(y_test, y_pred)\n",
    "cm"
   ]
  },
  {
   "cell_type": "code",
   "execution_count": 204,
   "metadata": {},
   "outputs": [
    {
     "name": "stdout",
     "output_type": "stream",
     "text": [
      "[ 0.80774032  0.80649189  0.8025      0.81125     0.82375     0.8075\n",
      "  0.82125     0.7975      0.79349186  0.81977472]\n",
      "0.809124879297\n",
      "0.00955905741613\n"
     ]
    }
   ],
   "source": [
    "# Applying k-Fold Cross Validation (evaluating the model performance)\n",
    "from sklearn.model_selection import cross_val_score\n",
    "accuracies = cross_val_score (estimator = classifier, X = X_train, y = y_train, cv = 10)\n",
    "print (accuracies)\n",
    "print (accuracies.mean ())\n",
    "print (accuracies.std ())"
   ]
  },
  {
   "cell_type": "code",
   "execution_count": 205,
   "metadata": {},
   "outputs": [
    {
     "data": {
      "text/plain": [
       "KNeighborsClassifier(algorithm='auto', leaf_size=30, metric='minkowski',\n",
       "           metric_params=None, n_jobs=1, n_neighbors=5, p=2,\n",
       "           weights='uniform')"
      ]
     },
     "execution_count": 205,
     "metadata": {},
     "output_type": "execute_result"
    }
   ],
   "source": [
    "# B) Fitting KNN to the Training set\n",
    "# Creating KNN class (classifier)\n",
    "from sklearn.neighbors import KNeighborsClassifier\n",
    "classifier = KNeighborsClassifier(n_neighbors = 5, metric = 'minkowski', p = 2)\n",
    "classifier.fit(X_train, y_train)"
   ]
  },
  {
   "cell_type": "code",
   "execution_count": 206,
   "metadata": {},
   "outputs": [
    {
     "data": {
      "text/plain": [
       "array([[1479,  116],\n",
       "       [ 238,  167]])"
      ]
     },
     "execution_count": 206,
     "metadata": {},
     "output_type": "execute_result"
    }
   ],
   "source": [
    "# Predicting the Test set results\n",
    "y_pred = classifier.predict(X_test)\n",
    "\n",
    "# Making the Confusion Matrix\n",
    "from sklearn.metrics import confusion_matrix\n",
    "cm = confusion_matrix(y_test, y_pred)\n",
    "cm"
   ]
  },
  {
   "cell_type": "code",
   "execution_count": 207,
   "metadata": {},
   "outputs": [
    {
     "name": "stdout",
     "output_type": "stream",
     "text": [
      "[ 0.82771536  0.80774032  0.8125      0.815       0.805       0.80125\n",
      "  0.8225      0.8125      0.80350438  0.82853567]\n",
      "0.813624573046\n",
      "0.0093200927389\n"
     ]
    }
   ],
   "source": [
    "# Applying k-Fold Cross Validation\n",
    "from sklearn.model_selection import cross_val_score\n",
    "accuracies = cross_val_score (estimator = classifier, X = X_train, y = y_train, cv = 10)\n",
    "print (accuracies)\n",
    "print (accuracies.mean ())\n",
    "print (accuracies.std ())"
   ]
  },
  {
   "cell_type": "code",
   "execution_count": 208,
   "metadata": {},
   "outputs": [
    {
     "data": {
      "text/plain": [
       "SVC(C=1.0, cache_size=200, class_weight=None, coef0=0.0,\n",
       "  decision_function_shape=None, degree=3, gamma='auto', kernel='linear',\n",
       "  max_iter=-1, probability=False, random_state=0, shrinking=True,\n",
       "  tol=0.001, verbose=False)"
      ]
     },
     "execution_count": 208,
     "metadata": {},
     "output_type": "execute_result"
    }
   ],
   "source": [
    "# C) Fitting SVC to the Training set. The assumption is that the data is linearly separable.\n",
    "# Creating SVC class (classifier)\n",
    "from sklearn.svm import SVC\n",
    "classifier = SVC(kernel = 'linear', random_state = 0)\n",
    "classifier.fit(X_train, y_train)"
   ]
  },
  {
   "cell_type": "code",
   "execution_count": 209,
   "metadata": {},
   "outputs": [
    {
     "data": {
      "text/plain": [
       "array([[1595,    0],\n",
       "       [ 405,    0]])"
      ]
     },
     "execution_count": 209,
     "metadata": {},
     "output_type": "execute_result"
    }
   ],
   "source": [
    "# Predicting the Test set results\n",
    "y_pred = classifier.predict(X_test)\n",
    "\n",
    "# Making the Confusion Matrix\n",
    "from sklearn.metrics import confusion_matrix\n",
    "cm = confusion_matrix(y_test, y_pred)\n",
    "cm"
   ]
  },
  {
   "cell_type": "code",
   "execution_count": 210,
   "metadata": {},
   "outputs": [
    {
     "name": "stdout",
     "output_type": "stream",
     "text": [
      "[ 0.79525593  0.79525593  0.79625     0.79625     0.79625     0.79625\n",
      "  0.79625     0.79625     0.79599499  0.79599499]\n",
      "0.796000184766\n",
      "0.000385010370451\n"
     ]
    }
   ],
   "source": [
    "# Applying k-Fold Cross Validation\n",
    "from sklearn.model_selection import cross_val_score\n",
    "accuracies = cross_val_score (estimator = classifier, X = X_train, y = y_train, cv = 10)\n",
    "print (accuracies)\n",
    "print (accuracies.mean ())\n",
    "print (accuracies.std ())"
   ]
  },
  {
   "cell_type": "code",
   "execution_count": 211,
   "metadata": {},
   "outputs": [
    {
     "data": {
      "text/plain": [
       "SVC(C=1.0, cache_size=200, class_weight=None, coef0=0.0,\n",
       "  decision_function_shape=None, degree=3, gamma='auto', kernel='rbf',\n",
       "  max_iter=-1, probability=False, random_state=0, shrinking=True,\n",
       "  tol=0.001, verbose=False)"
      ]
     },
     "execution_count": 211,
     "metadata": {},
     "output_type": "execute_result"
    }
   ],
   "source": [
    "# D) Fitting kernel SVC to the Training set. The assumption is that the data is NOT-linearly separable.\n",
    "# Creating kernel SVC class (classifier)\n",
    "from sklearn.svm import SVC\n",
    "classifier = SVC(kernel = 'rbf', random_state = 0)\n",
    "classifier.fit(X_train, y_train)"
   ]
  },
  {
   "cell_type": "code",
   "execution_count": 212,
   "metadata": {},
   "outputs": [
    {
     "data": {
      "text/plain": [
       "array([[1569,   26],\n",
       "       [ 307,   98]])"
      ]
     },
     "execution_count": 212,
     "metadata": {},
     "output_type": "execute_result"
    }
   ],
   "source": [
    "# Predicting the Test set results\n",
    "y_pred = classifier.predict(X_test)\n",
    "\n",
    "# Making the Confusion Matrix\n",
    "from sklearn.metrics import confusion_matrix\n",
    "cm = confusion_matrix(y_test, y_pred)\n",
    "cm"
   ]
  },
  {
   "cell_type": "code",
   "execution_count": 213,
   "metadata": {},
   "outputs": [
    {
     "name": "stdout",
     "output_type": "stream",
     "text": [
      "[ 0.84269663  0.8289638   0.83125     0.83        0.84        0.825       0.84\n",
      "  0.82375     0.81977472  0.83979975]\n",
      "0.832123489255\n",
      "0.00763807911223\n"
     ]
    }
   ],
   "source": [
    "# Model selection includes k-Fold Cross Validation and Grid Search\n",
    "\"\"\"1. Deal with the bias variance tradeoff when building a model and evaluating its performance.\n",
    "2. Choose the optimal values for the hyperparameters (the parameters that are not learned).\n",
    "3. Find the most appropriate Machine Learning model for the business problem.\n",
    "\n",
    "Model Selection techniques including:\n",
    "1.k-Fold Cross Validation\n",
    "2.Grid Search\"\"\"\n",
    "\n",
    "# Applying k-Fold Cross Validation\n",
    "from sklearn.model_selection import cross_val_score\n",
    "accuracies = cross_val_score (estimator = classifier, X = X_train, y = y_train, cv = 10)\n",
    "print (accuracies)\n",
    "print (accuracies.mean ())\n",
    "print (accuracies.std ())"
   ]
  },
  {
   "cell_type": "code",
   "execution_count": 214,
   "metadata": {},
   "outputs": [
    {
     "data": {
      "text/plain": [
       "'from sklearn.model_selection import GridSearchCV\\nparameters = [{\"C\": [1,10,100,1000], \\'kernel\\': [\\'linear\\']},\\n              {\"C\": [1,10,100,1000], \\'kernel\\': [\\'rbf\\'], \\'gamma\\': [0.5, 0.1, 0.01, 0.001, 0.0001]}] #if you get 0.5 as the best\\n                                                    # then exchange 0.001 and 0.0001 by 0.2, 0.3, 0.4, 0.5,0.6,0.7,0.8,and 0.9\\ngrid_search = GridSearchCV (estimator = classifier,\\n                            param_grid = parameters,\\n                            scoring = \\'accuracy\\',\\n                            cv = 10,\\n                            n_jobs = -1)\\ngrid_search = grid_search.fit (X_train, y_train)\\nbest_accuracy = grid_search.best_score_\\nbest_parameters = grid_search.best_params_'"
      ]
     },
     "execution_count": 214,
     "metadata": {},
     "output_type": "execute_result"
    }
   ],
   "source": [
    "# Applying Grid Search to find the best model and the best parameters. Here is just the code. Excuting the code on many\n",
    "# independent variables is time and computation comsuming. We will do it after dimentionality reduction.\n",
    "\"\"\"from sklearn.model_selection import GridSearchCV\n",
    "parameters = [{\"C\": [1,10,100,1000], 'kernel': ['linear']},\n",
    "              {\"C\": [1,10,100,1000], 'kernel': ['rbf'], 'gamma': [0.5, 0.1, 0.01, 0.001, 0.0001]}] #if you get 0.5 as the best\n",
    "                                                    # then exchange 0.001 and 0.0001 by 0.2, 0.3, 0.4, 0.5,0.6,0.7,0.8,and 0.9\n",
    "grid_search = GridSearchCV (estimator = classifier,\n",
    "                            param_grid = parameters,\n",
    "                            scoring = 'accuracy',\n",
    "                            cv = 10,\n",
    "                            n_jobs = -1)\n",
    "grid_search = grid_search.fit (X_train, y_train)\n",
    "best_accuracy = grid_search.best_score_\n",
    "best_parameters = grid_search.best_params_\"\"\""
   ]
  },
  {
   "cell_type": "code",
   "execution_count": 215,
   "metadata": {},
   "outputs": [
    {
     "data": {
      "text/plain": [
       "GaussianNB(priors=None)"
      ]
     },
     "execution_count": 215,
     "metadata": {},
     "output_type": "execute_result"
    }
   ],
   "source": [
    "# E) Fitting Naive Bayes to the Training set.\n",
    "# Creating Naive Bayes class (classifier)\n",
    "from sklearn.naive_bayes import GaussianNB\n",
    "classifier = GaussianNB ()\n",
    "classifier.fit(X_train, y_train)"
   ]
  },
  {
   "cell_type": "code",
   "execution_count": 216,
   "metadata": {},
   "outputs": [
    {
     "data": {
      "text/plain": [
       "array([[1425,  170],\n",
       "       [ 259,  146]])"
      ]
     },
     "execution_count": 216,
     "metadata": {},
     "output_type": "execute_result"
    }
   ],
   "source": [
    "# Predicting the Test set results\n",
    "y_pred = classifier.predict(X_test)\n",
    "\n",
    "# Making the Confusion Matrix\n",
    "from sklearn.metrics import confusion_matrix\n",
    "cm = confusion_matrix(y_test, y_pred)\n",
    "cm"
   ]
  },
  {
   "cell_type": "code",
   "execution_count": 217,
   "metadata": {},
   "outputs": [
    {
     "name": "stdout",
     "output_type": "stream",
     "text": [
      "[ 0.79525593  0.79775281  0.78875     0.79        0.7975      0.7925      0.81\n",
      "  0.7825      0.78222778  0.8097622 ]\n",
      "0.794624872656\n",
      "0.00919293677401\n"
     ]
    }
   ],
   "source": [
    "# Applying k-Fold Cross Validation\n",
    "from sklearn.model_selection import cross_val_score\n",
    "accuracies = cross_val_score (estimator = classifier, X = X_train, y = y_train, cv = 10)\n",
    "print (accuracies)\n",
    "print (accuracies.mean ())\n",
    "print (accuracies.std ())"
   ]
  },
  {
   "cell_type": "code",
   "execution_count": 218,
   "metadata": {},
   "outputs": [
    {
     "data": {
      "text/plain": [
       "DecisionTreeClassifier(class_weight=None, criterion='entropy', max_depth=None,\n",
       "            max_features=None, max_leaf_nodes=None,\n",
       "            min_impurity_split=1e-07, min_samples_leaf=1,\n",
       "            min_samples_split=2, min_weight_fraction_leaf=0.0,\n",
       "            presort=False, random_state=0, splitter='best')"
      ]
     },
     "execution_count": 218,
     "metadata": {},
     "output_type": "execute_result"
    }
   ],
   "source": [
    "# F) Fitting Decision Tree Classification to the Training set. It does not need for features scaling because it is not\n",
    "# Euclidean-based algorithm.\n",
    "# Creating Decision Tree Classification class (classifier)\n",
    "from sklearn.tree import DecisionTreeClassifier\n",
    "classifier = DecisionTreeClassifier (criterion = 'entropy', random_state = 0)\n",
    "classifier.fit(X_train, y_train)"
   ]
  },
  {
   "cell_type": "code",
   "execution_count": 219,
   "metadata": {},
   "outputs": [
    {
     "data": {
      "text/plain": [
       "array([[1366,  229],\n",
       "       [ 223,  182]])"
      ]
     },
     "execution_count": 219,
     "metadata": {},
     "output_type": "execute_result"
    }
   ],
   "source": [
    "# Predicting the Test set results\n",
    "y_pred = classifier.predict(X_test)\n",
    "\n",
    "# Making the Confusion Matrix\n",
    "from sklearn.metrics import confusion_matrix\n",
    "cm = confusion_matrix(y_test, y_pred)\n",
    "cm"
   ]
  },
  {
   "cell_type": "code",
   "execution_count": 220,
   "metadata": {},
   "outputs": [
    {
     "name": "stdout",
     "output_type": "stream",
     "text": [
      "[ 0.76404494  0.75031211  0.7625      0.75125     0.77375     0.72375\n",
      "  0.75625     0.74625     0.74468085  0.77346683]\n",
      "0.754625473829\n",
      "0.0142353640626\n"
     ]
    }
   ],
   "source": [
    "# Applying k-Fold Cross Validation\n",
    "from sklearn.model_selection import cross_val_score\n",
    "accuracies = cross_val_score (estimator = classifier, X = X_train, y = y_train, cv = 10)\n",
    "print (accuracies)\n",
    "print (accuracies.mean ())\n",
    "print (accuracies.std ())"
   ]
  },
  {
   "cell_type": "code",
   "execution_count": 221,
   "metadata": {},
   "outputs": [
    {
     "data": {
      "text/plain": [
       "RandomForestClassifier(bootstrap=True, class_weight=None, criterion='entropy',\n",
       "            max_depth=None, max_features='auto', max_leaf_nodes=None,\n",
       "            min_impurity_split=1e-07, min_samples_leaf=1,\n",
       "            min_samples_split=2, min_weight_fraction_leaf=0.0,\n",
       "            n_estimators=10, n_jobs=1, oob_score=False, random_state=0,\n",
       "            verbose=0, warm_start=False)"
      ]
     },
     "execution_count": 221,
     "metadata": {},
     "output_type": "execute_result"
    }
   ],
   "source": [
    "# G) Fitting Random Forest Classification to the Training set. It does not need for features scaling because it is not\n",
    "# Euclidean-based algorithm.\n",
    "# Creating Random Forest Classification class (classifier)\n",
    "from sklearn.ensemble import RandomForestClassifier\n",
    "classifier = RandomForestClassifier (n_estimators = 10, criterion = 'entropy', random_state = 0)\n",
    "classifier.fit(X_train, y_train)"
   ]
  },
  {
   "cell_type": "code",
   "execution_count": 222,
   "metadata": {},
   "outputs": [
    {
     "data": {
      "text/plain": [
       "array([[1495,  100],\n",
       "       [ 265,  140]])"
      ]
     },
     "execution_count": 222,
     "metadata": {},
     "output_type": "execute_result"
    }
   ],
   "source": [
    "# Predicting the Test set results\n",
    "y_pred = classifier.predict(X_test)\n",
    "\n",
    "# Making the Confusion Matrix\n",
    "from sklearn.metrics import confusion_matrix\n",
    "cm = confusion_matrix(y_test, y_pred)\n",
    "cm"
   ]
  },
  {
   "cell_type": "code",
   "execution_count": 223,
   "metadata": {},
   "outputs": [
    {
     "name": "stdout",
     "output_type": "stream",
     "text": [
      "[ 0.82646692  0.80774032  0.82125     0.80875     0.8075      0.78875\n",
      "  0.82875     0.8         0.79849812  0.81852315]\n",
      "0.810622851754\n",
      "0.0123078160521\n"
     ]
    }
   ],
   "source": [
    "# Applying k-Fold Cross Validation\n",
    "from sklearn.model_selection import cross_val_score\n",
    "accuracies = cross_val_score (estimator = classifier, X = X_train, y = y_train, cv = 10)\n",
    "print (accuracies)\n",
    "print (accuracies.mean ())\n",
    "print (accuracies.std ())"
   ]
  },
  {
   "cell_type": "code",
   "execution_count": 224,
   "metadata": {},
   "outputs": [
    {
     "data": {
      "text/plain": [
       "array([  2.22683378e-01,   2.03771633e-01,   1.64784688e-01,\n",
       "         1.20078209e-01,   1.10972338e-01,   1.01437998e-01,\n",
       "         7.62717551e-02,   6.84629160e-31,   3.32904385e-34])"
      ]
     },
     "execution_count": 224,
     "metadata": {},
     "output_type": "execute_result"
    }
   ],
   "source": [
    "\"\"\"There are two types of Dimensionality Reduction techniques:\n",
    "A.Feature Selection:\n",
    "    1.Backward Elimination\n",
    "    2.Forward Selection\n",
    "    3.Bidirectional Elimination\n",
    "    4.Score Comparison\n",
    "    5.and more.\n",
    "B.Feature Extraction:\n",
    "    1.Principal Component Analysis (PCA) for linearly separable data\n",
    "    2.Linear Discriminant Analysis (LDA) for linearly separable data\n",
    "    3.Kernel PCA for non-linearly separable data\n",
    "    4.Quadratic Discriminant Analysis (QDA)\"\"\"\n",
    "\n",
    "# Applying PCA then repeate all above classifier models.\n",
    "from sklearn.decomposition import PCA\n",
    "pca = PCA (n_components = None) # we want to extract 2 independent variables those explain the most variance. Therefore, start\n",
    "                                 # with 'none' and create Explained Variance vector to identify the top 2 independent variables.\n",
    "X_train = pca.fit_transform (X_train)\n",
    "X_test = pca.transform (X_test)\n",
    "explained_variance = pca.explained_variance_ratio_ # produce new extracted independent variables with principle component\n",
    "                                                   # for each one of them ordered from the highest\n",
    "                                                  # (which explain most the variance) to the lowest one.\n",
    "                                                # It is cumulative with 100% total\n",
    "\n",
    "explained_variance"
   ]
  },
  {
   "cell_type": "code",
   "execution_count": 225,
   "metadata": {},
   "outputs": [
    {
     "data": {
      "text/plain": [
       "array([ 0.22268338,  0.20377163])"
      ]
     },
     "execution_count": 225,
     "metadata": {},
     "output_type": "execute_result"
    }
   ],
   "source": [
    "# Applying PCA with n_components = 2.\n",
    "from sklearn.decomposition import PCA\n",
    "pca = PCA (n_components = 2) \n",
    "X_train = pca.fit_transform (X_train)\n",
    "X_test = pca.transform (X_test)\n",
    "explained_variance = pca.explained_variance_ratio_ \n",
    "explained_variance"
   ]
  },
  {
   "cell_type": "code",
   "execution_count": 226,
   "metadata": {},
   "outputs": [
    {
     "data": {
      "text/plain": [
       "array([[1595,    0],\n",
       "       [ 405,    0]])"
      ]
     },
     "execution_count": 226,
     "metadata": {},
     "output_type": "execute_result"
    }
   ],
   "source": [
    "# The top 2 variables represent about 43%\n",
    "# Now will apply logestic regression on dimentionality reduction\n",
    "# Creating logestic regression class (classifier)\n",
    "from sklearn.linear_model import LogisticRegression\n",
    "classifier = LogisticRegression(random_state = 0)\n",
    "classifier.fit(X_train, y_train)\n",
    "\n",
    "# Predicting the Test set results\n",
    "y_pred = classifier.predict(X_test)\n",
    "\n",
    "# Making the Confusion Matrix\n",
    "from sklearn.metrics import confusion_matrix\n",
    "cm = confusion_matrix(y_test, y_pred)\n",
    "cm"
   ]
  },
  {
   "cell_type": "code",
   "execution_count": 227,
   "metadata": {},
   "outputs": [
    {
     "data": {
      "image/png": "[encoded data removed]",
      "text/plain": [
       "<matplotlib.figure.Figure at 0x19b9f3d66d8>"
      ]
     },
     "metadata": {},
     "output_type": "display_data"
    }
   ],
   "source": [
    "# 9) Visualising the Training set results\n",
    "from matplotlib.colors import ListedColormap\n",
    "X_set, y_set = X_train, y_train\n",
    "X1, X2 = np.meshgrid(np.arange(start = X_set[:, 0].min() - 1, stop = X_set[:, 0].max() + 1, step = 0.01),\n",
    "                     np.arange(start = X_set[:, 1].min() - 1, stop = X_set[:, 1].max() + 1, step = 0.01))\n",
    "plt.contourf(X1, X2, classifier.predict(np.array([X1.ravel(), X2.ravel()]).T).reshape(X1.shape),\n",
    "             alpha = 0.75, cmap = ListedColormap(('red', 'green')))\n",
    "plt.xlim(X1.min(), X1.max())\n",
    "plt.ylim(X2.min(), X2.max())\n",
    "for i, j in enumerate(np.unique(y_set)):\n",
    "    plt.scatter(X_set[y_set == j, 0], X_set[y_set == j, 1],\n",
    "                c = ListedColormap(('red', 'green'))(i), label = j)\n",
    "plt.title('Logistic Regression (Training set)')\n",
    "plt.xlabel('PCA 1')\n",
    "plt.ylabel('PCA 2')\n",
    "plt.legend()\n",
    "plt.show()"
   ]
  },
  {
   "cell_type": "code",
   "execution_count": 228,
   "metadata": {},
   "outputs": [
    {
     "data": {
      "image/png": "[encoded data removed]",
      "text/plain": [
       "<matplotlib.figure.Figure at 0x19b9f316780>"
      ]
     },
     "metadata": {},
     "output_type": "display_data"
    }
   ],
   "source": [
    "# Visualising the Test set results\n",
    "from matplotlib.colors import ListedColormap\n",
    "X_set, y_set = X_test, y_test\n",
    "X1, X2 = np.meshgrid(np.arange(start = X_set[:, 0].min() - 1, stop = X_set[:, 0].max() + 1, step = 0.01),\n",
    "                     np.arange(start = X_set[:, 1].min() - 1, stop = X_set[:, 1].max() + 1, step = 0.01))\n",
    "plt.contourf(X1, X2, classifier.predict(np.array([X1.ravel(), X2.ravel()]).T).reshape(X1.shape),\n",
    "             alpha = 0.75, cmap = ListedColormap(('red', 'green')))\n",
    "plt.xlim(X1.min(), X1.max())\n",
    "plt.ylim(X2.min(), X2.max())\n",
    "for i, j in enumerate(np.unique(y_set)):\n",
    "    plt.scatter(X_set[y_set == j, 0], X_set[y_set == j, 1],\n",
    "                c = ListedColormap(('red', 'green'))(i), label = j)\n",
    "plt.title('Logistic Regression (Test set)')\n",
    "plt.xlabel('PCA 1')\n",
    "plt.ylabel('PCA 2')\n",
    "plt.legend()\n",
    "plt.show()"
   ]
  },
  {
   "cell_type": "code",
   "execution_count": 229,
   "metadata": {
    "collapsed": true
   },
   "outputs": [],
   "source": [
    "# Applying kernel PCA\n",
    "from sklearn.decomposition import KernelPCA\n",
    "kpca = KernelPCA (n_components = 2, kernel = 'rbf') \n",
    "X_train = kpca.fit_transform (X_train)\n",
    "X_test = kpca.transform (X_test)"
   ]
  },
  {
   "cell_type": "code",
   "execution_count": 230,
   "metadata": {},
   "outputs": [
    {
     "data": {
      "text/plain": [
       "array([[1595,    0],\n",
       "       [ 405,    0]])"
      ]
     },
     "execution_count": 230,
     "metadata": {},
     "output_type": "execute_result"
    }
   ],
   "source": [
    "# Creating logestic regression class (classifier)\n",
    "from sklearn.linear_model import LogisticRegression\n",
    "classifier = LogisticRegression(random_state = 0)\n",
    "classifier.fit(X_train, y_train)\n",
    "\n",
    "# Predicting the Test set results\n",
    "y_pred = classifier.predict(X_test)\n",
    "\n",
    "# Making the Confusion Matrix\n",
    "from sklearn.metrics import confusion_matrix\n",
    "cm = confusion_matrix(y_test, y_pred)\n",
    "cm"
   ]
  },
  {
   "cell_type": "code",
   "execution_count": 233,
   "metadata": {},
   "outputs": [
    {
     "data": {
      "image/png": "[encoded data removed]",
      "text/plain": [
       "<matplotlib.figure.Figure at 0x19b9eef7b00>"
      ]
     },
     "metadata": {},
     "output_type": "display_data"
    }
   ],
   "source": [
    "# Visualising the Training set results\n",
    "from matplotlib.colors import ListedColormap\n",
    "X_set, y_set = X_train, y_train\n",
    "X1, X2 = np.meshgrid(np.arange(start = X_set[:, 0].min() - 1, stop = X_set[:, 0].max() + 1, step = 0.01),\n",
    "                     np.arange(start = X_set[:, 1].min() - 1, stop = X_set[:, 1].max() + 1, step = 0.01))\n",
    "plt.contourf(X1, X2, classifier.predict(np.array([X1.ravel(), X2.ravel()]).T).reshape(X1.shape),\n",
    "             alpha = 0.75, cmap = ListedColormap(('red', 'green')))\n",
    "plt.xlim(X1.min(), X1.max())\n",
    "plt.ylim(X2.min(), X2.max())\n",
    "for i, j in enumerate(np.unique(y_set)):\n",
    "    plt.scatter(X_set[y_set == j, 0], X_set[y_set == j, 1],\n",
    "                c = ListedColormap(('red', 'green'))(i), label = j)\n",
    "plt.title('Logistic Regression (Training set)')\n",
    "plt.xlabel('Kernel PCA 1')\n",
    "plt.ylabel('Kernel PCA 2')\n",
    "plt.legend()\n",
    "plt.show()"
   ]
  },
  {
   "cell_type": "code",
   "execution_count": 232,
   "metadata": {},
   "outputs": [
    {
     "data": {
      "image/png": "[encoded data removed]",
      "text/plain": [
       "<matplotlib.figure.Figure at 0x19b9f5f3ac8>"
      ]
     },
     "metadata": {},
     "output_type": "display_data"
    }
   ],
   "source": [
    "# Visualising the Test set results\n",
    "from matplotlib.colors import ListedColormap\n",
    "X_set, y_set = X_test, y_test\n",
    "X1, X2 = np.meshgrid(np.arange(start = X_set[:, 0].min() - 1, stop = X_set[:, 0].max() + 1, step = 0.01),\n",
    "                     np.arange(start = X_set[:, 1].min() - 1, stop = X_set[:, 1].max() + 1, step = 0.01))\n",
    "plt.contourf(X1, X2, classifier.predict(np.array([X1.ravel(), X2.ravel()]).T).reshape(X1.shape),\n",
    "             alpha = 0.75, cmap = ListedColormap(('red', 'green')))\n",
    "plt.xlim(X1.min(), X1.max())\n",
    "plt.ylim(X2.min(), X2.max())\n",
    "for i, j in enumerate(np.unique(y_set)):\n",
    "    plt.scatter(X_set[y_set == j, 0], X_set[y_set == j, 1],\n",
    "                c = ListedColormap(('red', 'green'))(i), label = j)\n",
    "plt.title('Logistic Regression (Test set)')\n",
    "plt.xlabel('Kernel PCA 1')\n",
    "plt.ylabel('Kernel PCA 2')\n",
    "plt.legend()\n",
    "plt.show()"
   ]
  },
  {
   "cell_type": "code",
   "execution_count": null,
   "metadata": {
    "collapsed": true
   },
   "outputs": [],
   "source": []
  },
  {
   "cell_type": "code",
   "execution_count": null,
   "metadata": {
    "collapsed": true
   },
   "outputs": [],
   "source": []
  },
  {
   "cell_type": "code",
   "execution_count": null,
   "metadata": {
    "collapsed": true
   },
   "outputs": [],
   "source": []
  },
  {
   "cell_type": "code",
   "execution_count": 247,
   "metadata": {
    "collapsed": true
   },
   "outputs": [],
   "source": [
    "# Applying LDA then repeate all above classifier models.\n",
    "# LDA extracts p <= n new independent variables those separate the most the classes of the dependent variable.\n",
    "# Including the dependent variable in LDA makes it a suprevised model.\n",
    "\n",
    "from sklearn.discriminant_analysis import LinearDiscriminantAnalysis as LDA\n",
    "lda = LDA (n_components = 2) \n",
    "X_train = lda.fit_transform (X_train, y_train) # we added y_train because it is supervised model\n",
    "X_test = lda.transform (X_test)\n",
    "\n",
    "# explained_variance = pca.explained_variance_ratio_ # No need for this step because dependant variable has been included.\n",
    "                                                    # We are not looking for independant variables those explain the most of\n",
    "                                                   # variance but we are looking for the independant\n",
    "                                                  # variables those separate the most the classes of the dependent variable.  \n"
   ]
  },
  {
   "cell_type": "code",
   "execution_count": 268,
   "metadata": {},
   "outputs": [
    {
     "data": {
      "text/plain": [
       "array([[1595,    0],\n",
       "       [ 405,    0]])"
      ]
     },
     "execution_count": 268,
     "metadata": {},
     "output_type": "execute_result"
    }
   ],
   "source": [
    "# Creating logestic regression class (classifier)\n",
    "from sklearn.linear_model import LogisticRegression\n",
    "classifier = LogisticRegression(random_state = 0)\n",
    "classifier.fit(X_train, y_train)\n",
    "\n",
    "# Predicting the Test set results\n",
    "y_pred = classifier.predict(X_test)\n",
    "\n",
    "# Making the Confusion Matrix\n",
    "from sklearn.metrics import confusion_matrix\n",
    "cm = confusion_matrix(y_test, y_pred)\n",
    "cm"
   ]
  },
  {
   "cell_type": "code",
   "execution_count": null,
   "metadata": {
    "collapsed": true
   },
   "outputs": [],
   "source": []
  },
  {
   "cell_type": "code",
   "execution_count": 269,
   "metadata": {},
   "outputs": [
    {
     "ename": "IndexError",
     "evalue": "index 1 is out of bounds for axis 1 with size 1",
     "output_type": "error",
     "traceback": [
      "\u001b[1;31m---------------------------------------------------------------------------\u001b[0m",
      "\u001b[1;31mIndexError\u001b[0m                                Traceback (most recent call last)",
      "\u001b[1;32m<ipython-input-269-c1bbd60c402e>\u001b[0m in \u001b[0;36m<module>\u001b[1;34m()\u001b[0m\n\u001b[0;32m      3\u001b[0m \u001b[0mX_set\u001b[0m\u001b[1;33m,\u001b[0m \u001b[0my_set\u001b[0m \u001b[1;33m=\u001b[0m \u001b[0mX_test\u001b[0m\u001b[1;33m,\u001b[0m \u001b[0my_test\u001b[0m\u001b[1;33m\u001b[0m\u001b[0m\n\u001b[0;32m      4\u001b[0m X1, X2 = np.meshgrid(np.arange(start = X_set[:, 0].min() - 1, stop = X_set[:, 0].max() + 1, step = 0.01),\n\u001b[1;32m----> 5\u001b[1;33m                      np.arange(start = X_set[:, 1].min() - 1, stop = X_set[:, 1].max() + 1, step = 0.01))\n\u001b[0m\u001b[0;32m      6\u001b[0m plt.contourf(X1, X2, classifier.predict(np.array([X1.ravel(), X2.ravel()]).T).reshape(X1.shape),\n\u001b[0;32m      7\u001b[0m              alpha = 0.75, cmap = ListedColormap(('red', 'green')))\n",
      "\u001b[1;31mIndexError\u001b[0m: index 1 is out of bounds for axis 1 with size 1"
     ]
    }
   ],
   "source": [
    "# Visualising the Training set results\n",
    "from matplotlib.colors import ListedColormap\n",
    "X_set, y_set = X_test, y_test\n",
    "X1, X2 = np.meshgrid(np.arange(start = X_set[:, 0].min() - 1, stop = X_set[:, 0].max() + 1, step = 0.01),\n",
    "                     np.arange(start = X_set[:, 1].min() - 1, stop = X_set[:, 1].max() + 1, step = 0.01))\n",
    "plt.contourf(X1, X2, classifier.predict(np.array([X1.ravel(), X2.ravel()]).T).reshape(X1.shape),\n",
    "             alpha = 0.75, cmap = ListedColormap(('red', 'green')))\n",
    "plt.xlim(X1.min(), X1.max())\n",
    "plt.ylim(X2.min(), X2.max())\n",
    "for i, j in enumerate(np.unique(y_set)):\n",
    "    plt.scatter(X_set[y_set == j, 0], X_set[y_set == j, 1],\n",
    "                c = ListedColormap(('red', 'green'))(i), label = j)\n",
    "plt.title('Logistic Regression (Test set)')\n",
    "plt.xlabel('Kernel PCA 1')\n",
    "plt.ylabel('Kernel PCA 2')\n",
    "plt.legend()\n",
    "plt.show()"
   ]
  },
  {
   "cell_type": "code",
   "execution_count": 246,
   "metadata": {},
   "outputs": [
    {
     "data": {
      "text/plain": [
       "array([ 1.])"
      ]
     },
     "execution_count": 246,
     "metadata": {},
     "output_type": "execute_result"
    }
   ],
   "source": [
    "# Applying PCA then repeate all above classifier models.\n",
    "from sklearn.decomposition import PCA\n",
    "pca = PCA (n_components = None) # we want to extract 2 independent variables those explain the most variance. Therefore, start\n",
    "                                 # with 'none' and create Explained Variance vector to identify the top 2 independent variables.\n",
    "X_train = pca.fit_transform (X_train)\n",
    "X_test = pca.transform (X_test)\n",
    "explained_variance = pca.explained_variance_ratio_ # produce new extracted independent variables with principle component\n",
    "                                                   # for each one of them ordered from the highest\n",
    "                                                  # (which explain most the variance) to the lowest one.\n",
    "                                                # It is cumulative with 100% total\n",
    "\n",
    "explained_variance\n",
    "\n"
   ]
  },
  {
   "cell_type": "code",
   "execution_count": null,
   "metadata": {
    "collapsed": true
   },
   "outputs": [],
   "source": [
    "\"\"\"# 9) Visualising the Training set results\n",
    "from matplotlib.colors import ListedColormap\n",
    "X_set, y_set = X_train, y_train\n",
    "X1, X2 = np.meshgrid(np.arange(start = X_set[:, 0].min() - 1, stop = X_set[:, 0].max() + 1, step = 0.01),\n",
    "                     np.arange(start = X_set[:, 1].min() - 1, stop = X_set[:, 1].max() + 1, step = 0.01))\n",
    "plt.contourf(X1, X2, classifier.predict(np.array([X1.ravel(), X2.ravel()]).T).reshape(X1.shape),\n",
    "             alpha = 0.75, cmap = ListedColormap(('red', 'green')))\n",
    "plt.xlim(X1.min(), X1.max())\n",
    "plt.ylim(X2.min(), X2.max())\n",
    "for i, j in enumerate(np.unique(y_set)):\n",
    "    plt.scatter(X_set[y_set == j, 0], X_set[y_set == j, 1],\n",
    "                c = ListedColormap(('red', 'green'))(i), label = j)\n",
    "plt.title('Logistic Regression (Training set)')\n",
    "plt.xlabel('Age')\n",
    "plt.ylabel('Estimated Expenses')\n",
    "plt.legend()\n",
    "plt.show()\n",
    "\n",
    "# Visualising the Test set results\n",
    "from matplotlib.colors import ListedColormap\n",
    "X_set, y_set = X_test, y_test\n",
    "X1, X2 = np.meshgrid(np.arange(start = X_set[:, 0].min() - 1, stop = X_set[:, 0].max() + 1, step = 0.01),\n",
    "                     np.arange(start = X_set[:, 1].min() - 1, stop = X_set[:, 1].max() + 1, step = 0.01))\n",
    "plt.contourf(X1, X2, classifier.predict(np.array([X1.ravel(), X2.ravel()]).T).reshape(X1.shape),\n",
    "             alpha = 0.75, cmap = ListedColormap(('red', 'green')))\n",
    "plt.xlim(X1.min(), X1.max())\n",
    "plt.ylim(X2.min(), X2.max())\n",
    "for i, j in enumerate(np.unique(y_set)):\n",
    "    plt.scatter(X_set[y_set == j, 0], X_set[y_set == j, 1],\n",
    "                c = ListedColormap(('red', 'green'))(i), label = j)\n",
    "plt.title('Logistic Regression (Test set)')\n",
    "plt.xlabel('Age')\n",
    "plt.ylabel('Estimated Expenses')\n",
    "plt.legend()\n",
    "plt.show()\"\"\""
   ]
  },
  {
   "cell_type": "code",
   "execution_count": null,
   "metadata": {
    "collapsed": true
   },
   "outputs": [],
   "source": []
  }
 ],
 "metadata": {
  "kernelspec": {
   "display_name": "Python 3",
   "language": "python",
   "name": "python3"
  },
  "language_info": {
   "codemirror_mode": {
    "name": "ipython",
    "version": 3
   },
   "file_extension": ".py",
   "mimetype": "text/x-python",
   "name": "python",
   "nbconvert_exporter": "python",
   "pygments_lexer": "ipython3",
   "version": "3.6.1"
  }
 },
 "nbformat": 4,
 "nbformat_minor": 2
}
